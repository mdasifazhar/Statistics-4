{
 "cells": [
  {
   "cell_type": "markdown",
   "metadata": {},
   "source": [
    "###### Problem Statement 1:\n",
    "###### YIs gender independent of education level? A random sample of 395 people were surveyed and each person was asked to report the highest education level they obtained. The data that resulted from the survey is summarized in the following table:\n",
    "###### ----------High School----Bachelors----Masters----Ph.d.----Total\n",
    "######   Female-----60------------54------------46------------41------201   \n",
    "######   Male--------40------------44------------53------------57------194   \n",
    "######   Total -------100-----------98------------99------------ 98------395\n",
    "\n",
    "###### Question: Are gender and education level dependent at 5% level of significance? In other words, given the data collected above, is there a relationship between the gender of an individual and the level of education that they have obtained?"
   ]
  },
  {
   "cell_type": "markdown",
   "metadata": {},
   "source": [
    "\n",
    "Given the data collected above, is there a relationship between the gender of an individual and the level of education that they have obtained? Here's the \n",
    "Table of expected counts: High School Bachelors Masters Ph.d. Total \n",
    "Female 50.886 49.868 50.377 49.868 201 \n",
    "Male 49.114 48.132 48.623 48.132 194 Total 100 98 99 98 395\n",
    "So, working this out, χ2 = (60 − 50.886)2/50.886 + ⋯ + (57 − 48.132)2/48.132 = 8.006\n",
    "\n",
    "The critical value of χ**2 with 3 degree of freedom is 7.815. Since 8.006 > 7.815, therefore we reject the null hypothesis and conclude that the education level depends on gender at a 5% level of significance.\n",
    "\n",
    "chi - sq = 8.006, DF = 3, P-Value = 0.046\n",
    "\n",
    "Chi-square test of independence value that Minitab calculated is 8.006 (same as above)\n",
    " \n",
    "The Chi-square test for independence is an important method for determining. if there is a relationship between variables where the chance that something falls into a particular category depends on whether the variable falls into another category comes into play. This relationship of independence / dependence is important to be able to understand and use."
   ]
  },
  {
   "cell_type": "markdown",
   "metadata": {},
   "source": [
    "###### Problem Statement 2:\n",
    "###### Using the following data, perform a oneway analysis of variance using α=.05. Write up the results in APA format.\n",
    "###### [Group1: 51, 45, 33, 45, 67]\n",
    "###### [Group2: 23, 43, 23, 43, 45]\n",
    "###### [Group3: 56, 76, 74, 87, 56]"
   ]
  },
  {
   "cell_type": "markdown",
   "metadata": {},
   "source": [
    "###### Step 1: Calculate all the means\n",
    "Mean: 51.13\n",
    "\n",
    "###### Step 2: Set up the Null and Alternate Hypothesis\n",
    "You should already know how to do this by now H0: μ1 = μ2 = μ3 Ha: μ1 ≠ μ2 ≠ μ3\n",
    "\n",
    "We also specify the as well as the rejection criteria. α = 0.05 Rejection criteria: K0.05 < F This means that if the critical value of F from tables is less than the calculated value of F, we reject the null hypothesis\n",
    "\n",
    "###### Step 3: Calculate the Sum of Squares\n",
    "The formular for sum of squares are given below\n",
    "\n",
    "SS(total) = SS(between) + SS(within)\n",
    "\n",
    "I have expanded the excel sheet to calculate the values of this terms in the equation Take some time to study it. The formulas are quite simple and clear. If you have issue though let me know in the comment box to the left of this page\n",
    "\n",
    "###### Step 4: Calculate the Degrees of Freedom\n",
    "The degrees of freedom are calculated using the formula below.\n",
    "\n",
    "dftotal = n - 1 = 15 - 1 = 14\n",
    "dfwithin = n - k = 15 - 3 = 12\n",
    "dfbetween = k - 1 = 3 - 1 = 2\n",
    "Verify that dftotal = dfbetween + dfwithin\n",
    "\n",
    "###### Step 5: Calculate the Mean Squares\n",
    "The formula is given below for the mean squares between\n",
    "\n",
    "MS(Between) = SS(between) / df(between)\n",
    "MS(Between) = 3022/2 = 1511.47\n",
    "The formula for the mean squares within\n",
    "MS(Within) = SS(Within) / Df(within)\n",
    "MS(Within) = 1860/12 = 155.07\n",
    "###### Step 6: Calculate the F Statistic\n",
    "Then we go ahead to calculate the F statistic using MSB and MSW\n",
    "\n",
    "F = MS(Between)/MS(Within)\n",
    "F = 1511.47/155.07 = 9.75\n",
    "###### Step 7: Look up F from table and state your Conclusion\n",
    "Access table from here From the table of F distribution, the critical value of F for 0.05 significance and degrees of freedom of(df1 = 12 and df2 = 2) we have:\n",
    "\n",
    "F = 3.89"
   ]
  },
  {
   "cell_type": "markdown",
   "metadata": {},
   "source": [
    "###### Problem Statement 3:\n",
    "###### Calculate F Test for given 10, 20, 30, 40, 50 and 5,10,15, 20, 25. For 10, 20, 30, 40, 50: Note: Solution submitted via github must contain all the detailed steps."
   ]
  },
  {
   "cell_type": "markdown",
   "metadata": {},
   "source": [
    "###### F Test is generally defined as ratio of the variances of the given two set of values. First calculate standard deviation and variation of the given set of values. The formula used to calculate SD is,\n",
    "Standard Deviation Formula Standard Deviation Formula The standard deviation is represented by the symbol ᵟ and variance is square of the standard deviation. The formula used to calculate F Test is, F Test Formula F Test Example\n",
    "\n",
    "For Example: Calculate F Test for given 10,20,30,40,50 and 5,10,15,20,25. For 10, 20,30,40,50:\n",
    "\n",
    "###### Calculate Variance of first set\n",
    "Total Inputs (N) =(10,20,30,40,50) Total Inputs (N)=5 Mean (xm)= (x1+x1+x2...xn)/N Mean (xm)= 150/5 Means(xm)= 30 SD=sqrt(1/(N-1)*((x1-xm)2+(x2-xm)2+..+(xn-xm)2)) =sqrt(1/(5-1)((10-30)2+(20-30)2+(30-30)2+(40-30)2+(50-30)2)) =sqrt(1/4((-20)2+(-10)2+(0)2+(10)2+(20)2)) =sqrt(1/4((400)+(100)+(0)+(100)+(400))) =sqrt(250) =15.8114 Variance=SD2 Variance=15.81142 Variance=250\n",
    "\n",
    "Calculate Variance of second set For 5, 10,15,20,25: Total Inputs(N) =(5,10,15,20,25) Total Inputs(N)=5 Mean (xm)= (x1+x2+x3...xN)/N Mean (xm)= 75/5 Means (xm)= 15 SD=sqrt(1/(N-1)*((x1-xm)2+(x2-xm)2+..+(xn-xm)2)) =sqrt(1/(5-1)((5-15)2+(10-15)2+(15-15)2+(20-15)2+(25-15)2)) =sqrt(1/4((-10)2+(-5)2+(0)2+(5)2+(10)2)) =sqrt(1/4((100)+(25)+(0)+(25)+(100))) =sqrt(62.5) =7.9057 Variance=SD2 Variance=7.90572 Variance=62.5\n",
    "\n",
    "To calculate F Test F Test = (variance of 10, 20,30,40,50) / (variance of 5, 10, 15, 20, 25) = 250/62.5 = 4.\n",
    "\n",
    "###### The F Test value is 4."
   ]
  },
  {
   "cell_type": "code",
   "execution_count": null,
   "metadata": {
    "collapsed": true
   },
   "outputs": [],
   "source": []
  }
 ],
 "metadata": {
  "kernelspec": {
   "display_name": "Python 3",
   "language": "python",
   "name": "python3"
  },
  "language_info": {
   "codemirror_mode": {
    "name": "ipython",
    "version": 3
   },
   "file_extension": ".py",
   "mimetype": "text/x-python",
   "name": "python",
   "nbconvert_exporter": "python",
   "pygments_lexer": "ipython3",
   "version": "3.6.5"
  }
 },
 "nbformat": 4,
 "nbformat_minor": 2
}
